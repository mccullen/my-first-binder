{
 "cells": [
  {
   "cell_type": "code",
   "execution_count": null,
   "metadata": {
    "vscode": {
     "languageId": "r"
    }
   },
   "outputs": [],
   "source": [
    "library(\"Eunomia\")\n",
    "library(\"DatabaseConnector\")\n",
    "\n"
   ]
  },
  {
   "cell_type": "code",
   "execution_count": null,
   "metadata": {
    "vscode": {
     "languageId": "r"
    }
   },
   "outputs": [],
   "source": [
    "conn <- DatabaseConnector::connect(dbms = \"sqlite\", server = getDatabaseFile(\"MIMIC\"))"
   ]
  },
  {
   "cell_type": "code",
   "execution_count": null,
   "metadata": {
    "vscode": {
     "languageId": "r"
    }
   },
   "outputs": [],
   "source": [
    "sql <- \"select count(*) from person;\"\n",
    "querySql(conn, sql)"
   ]
  },
  {
   "cell_type": "code",
   "execution_count": null,
   "metadata": {
    "vscode": {
     "languageId": "r"
    }
   },
   "outputs": [],
   "source": [
    "connectionDetails <- getEunomiaConnectionDetails()\n",
    "connection <- DatabaseConnector::connect(connectionDetails)\n",
    "DatabaseConnector::querySql(connection, sql=\"SELECT COUNT(*) FROM person;\")\n",
    "#  COUNT(*)\n",
    "#1     2694\n",
    "\n",
    "#DatabaseConnector::getTableNames(connection,databaseSchema = 'main')\n",
    "#DatabaseConnector::disconnect(connection)"
   ]
  }
 ],
 "metadata": {
  "kernelspec": {
   "display_name": "R",
   "language": "R",
   "name": "ir"
  },
  "language_info": {
   "codemirror_mode": "r",
   "file_extension": ".r",
   "mimetype": "text/x-r-source",
   "name": "R",
   "pygments_lexer": "r",
   "version": "4.2.3"
  }
 },
 "nbformat": 4,
 "nbformat_minor": 2
}
