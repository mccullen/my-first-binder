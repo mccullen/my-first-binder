{
 "cells": [
  {
   "cell_type": "code",
   "execution_count": 6,
   "metadata": {
    "vscode": {
     "languageId": "r"
    }
   },
   "outputs": [
    {
     "name": "stderr",
     "output_type": "stream",
     "text": [
      "attempting to download GiBleed\n",
      "\n",
      "attempting to extract and load: C:\\Users\\mccul\\AppData\\Local\\Temp\\Rtmpe6KiUn/GiBleed_5.3.zip to: C:\\Users\\mccul\\AppData\\Local\\Temp\\Rtmpe6KiUn/GiBleed_5.3.sqlite\n",
      "\n",
      "Connecting using SQLite driver\n"
     ]
    },
    {
     "data": {
      "text/html": [
       "<table class=\"dataframe\">\n",
       "<caption>A data.frame: 1 × 1</caption>\n",
       "<thead>\n",
       "\t<tr><th scope=col>COUNT(*)</th></tr>\n",
       "\t<tr><th scope=col>&lt;dbl&gt;</th></tr>\n",
       "</thead>\n",
       "<tbody>\n",
       "\t<tr><td>2694</td></tr>\n",
       "</tbody>\n",
       "</table>\n"
      ],
      "text/latex": [
       "A data.frame: 1 × 1\n",
       "\\begin{tabular}{l}\n",
       " COUNT(*)\\\\\n",
       " <dbl>\\\\\n",
       "\\hline\n",
       "\t 2694\\\\\n",
       "\\end{tabular}\n"
      ],
      "text/markdown": [
       "\n",
       "A data.frame: 1 × 1\n",
       "\n",
       "| COUNT(*) &lt;dbl&gt; |\n",
       "|---|\n",
       "| 2694 |\n",
       "\n"
      ],
      "text/plain": [
       "  COUNT(*)\n",
       "1 2694    "
      ]
     },
     "metadata": {},
     "output_type": "display_data"
    },
    {
     "data": {
      "text/html": [
       "<style>\n",
       ".list-inline {list-style: none; margin:0; padding: 0}\n",
       ".list-inline>li {display: inline-block}\n",
       ".list-inline>li:not(:last-child)::after {content: \"\\00b7\"; padding: 0 .5ex}\n",
       "</style>\n",
       "<ol class=list-inline><li>'attribute_definition'</li><li>'care_site'</li><li>'cdm_source'</li><li>'cohort'</li><li>'cohort_attribute'</li><li>'cohort_definition'</li><li>'concept'</li><li>'concept_ancestor'</li><li>'concept_class'</li><li>'concept_relationship'</li><li>'concept_synonym'</li><li>'condition_era'</li><li>'condition_occurrence'</li><li>'cost'</li><li>'death'</li><li>'device_exposure'</li><li>'domain'</li><li>'dose_era'</li><li>'drug_era'</li><li>'drug_exposure'</li><li>'drug_strength'</li><li>'fact_relationship'</li><li>'location'</li><li>'measurement'</li><li>'metadata'</li><li>'note'</li><li>'note_nlp'</li><li>'observation'</li><li>'observation_period'</li><li>'payer_plan_period'</li><li>'person'</li><li>'procedure_occurrence'</li><li>'provider'</li><li>'relationship'</li><li>'source_to_concept_map'</li><li>'specimen'</li><li>'visit_detail'</li><li>'visit_occurrence'</li><li>'vocabulary'</li></ol>\n"
      ],
      "text/latex": [
       "\\begin{enumerate*}\n",
       "\\item 'attribute\\_definition'\n",
       "\\item 'care\\_site'\n",
       "\\item 'cdm\\_source'\n",
       "\\item 'cohort'\n",
       "\\item 'cohort\\_attribute'\n",
       "\\item 'cohort\\_definition'\n",
       "\\item 'concept'\n",
       "\\item 'concept\\_ancestor'\n",
       "\\item 'concept\\_class'\n",
       "\\item 'concept\\_relationship'\n",
       "\\item 'concept\\_synonym'\n",
       "\\item 'condition\\_era'\n",
       "\\item 'condition\\_occurrence'\n",
       "\\item 'cost'\n",
       "\\item 'death'\n",
       "\\item 'device\\_exposure'\n",
       "\\item 'domain'\n",
       "\\item 'dose\\_era'\n",
       "\\item 'drug\\_era'\n",
       "\\item 'drug\\_exposure'\n",
       "\\item 'drug\\_strength'\n",
       "\\item 'fact\\_relationship'\n",
       "\\item 'location'\n",
       "\\item 'measurement'\n",
       "\\item 'metadata'\n",
       "\\item 'note'\n",
       "\\item 'note\\_nlp'\n",
       "\\item 'observation'\n",
       "\\item 'observation\\_period'\n",
       "\\item 'payer\\_plan\\_period'\n",
       "\\item 'person'\n",
       "\\item 'procedure\\_occurrence'\n",
       "\\item 'provider'\n",
       "\\item 'relationship'\n",
       "\\item 'source\\_to\\_concept\\_map'\n",
       "\\item 'specimen'\n",
       "\\item 'visit\\_detail'\n",
       "\\item 'visit\\_occurrence'\n",
       "\\item 'vocabulary'\n",
       "\\end{enumerate*}\n"
      ],
      "text/markdown": [
       "1. 'attribute_definition'\n",
       "2. 'care_site'\n",
       "3. 'cdm_source'\n",
       "4. 'cohort'\n",
       "5. 'cohort_attribute'\n",
       "6. 'cohort_definition'\n",
       "7. 'concept'\n",
       "8. 'concept_ancestor'\n",
       "9. 'concept_class'\n",
       "10. 'concept_relationship'\n",
       "11. 'concept_synonym'\n",
       "12. 'condition_era'\n",
       "13. 'condition_occurrence'\n",
       "14. 'cost'\n",
       "15. 'death'\n",
       "16. 'device_exposure'\n",
       "17. 'domain'\n",
       "18. 'dose_era'\n",
       "19. 'drug_era'\n",
       "20. 'drug_exposure'\n",
       "21. 'drug_strength'\n",
       "22. 'fact_relationship'\n",
       "23. 'location'\n",
       "24. 'measurement'\n",
       "25. 'metadata'\n",
       "26. 'note'\n",
       "27. 'note_nlp'\n",
       "28. 'observation'\n",
       "29. 'observation_period'\n",
       "30. 'payer_plan_period'\n",
       "31. 'person'\n",
       "32. 'procedure_occurrence'\n",
       "33. 'provider'\n",
       "34. 'relationship'\n",
       "35. 'source_to_concept_map'\n",
       "36. 'specimen'\n",
       "37. 'visit_detail'\n",
       "38. 'visit_occurrence'\n",
       "39. 'vocabulary'\n",
       "\n",
       "\n"
      ],
      "text/plain": [
       " [1] \"attribute_definition\"  \"care_site\"             \"cdm_source\"           \n",
       " [4] \"cohort\"                \"cohort_attribute\"      \"cohort_definition\"    \n",
       " [7] \"concept\"               \"concept_ancestor\"      \"concept_class\"        \n",
       "[10] \"concept_relationship\"  \"concept_synonym\"       \"condition_era\"        \n",
       "[13] \"condition_occurrence\"  \"cost\"                  \"death\"                \n",
       "[16] \"device_exposure\"       \"domain\"                \"dose_era\"             \n",
       "[19] \"drug_era\"              \"drug_exposure\"         \"drug_strength\"        \n",
       "[22] \"fact_relationship\"     \"location\"              \"measurement\"          \n",
       "[25] \"metadata\"              \"note\"                  \"note_nlp\"             \n",
       "[28] \"observation\"           \"observation_period\"    \"payer_plan_period\"    \n",
       "[31] \"person\"                \"procedure_occurrence\"  \"provider\"             \n",
       "[34] \"relationship\"          \"source_to_concept_map\" \"specimen\"             \n",
       "[37] \"visit_detail\"          \"visit_occurrence\"      \"vocabulary\"           "
      ]
     },
     "metadata": {},
     "output_type": "display_data"
    },
    {
     "ename": "ERROR",
     "evalue": "Error in disconnect(connection): could not find function \"disconnect\"\n",
     "output_type": "error",
     "traceback": [
      "Error in disconnect(connection): could not find function \"disconnect\"\nTraceback:\n"
     ]
    }
   ],
   "source": [
    "library(\"Eunomia\")\n",
    "connectionDetails <- getEunomiaConnectionDetails()\n",
    "connection <- DatabaseConnector::connect(connectionDetails)\n",
    "DatabaseConnector::querySql(connection, sql=\"SELECT COUNT(*) FROM person;\")\n",
    "#  COUNT(*)\n",
    "#1     2694\n",
    "\n",
    "DatabaseConnector::getTableNames(connection,databaseSchema = 'main')\n",
    "DatabaseConnector::disconnect(connection)"
   ]
  }
 ],
 "metadata": {
  "kernelspec": {
   "display_name": "R",
   "language": "R",
   "name": "ir"
  },
  "language_info": {
   "codemirror_mode": "r",
   "file_extension": ".r",
   "mimetype": "text/x-r-source",
   "name": "R",
   "pygments_lexer": "r",
   "version": "4.2.3"
  }
 },
 "nbformat": 4,
 "nbformat_minor": 2
}
