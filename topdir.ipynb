{
 "cells": [
  {
   "cell_type": "markdown",
   "metadata": {},
   "source": [
    "## Load in R Packages"
   ]
  },
  {
   "cell_type": "code",
   "execution_count": null,
   "metadata": {
    "vscode": {
     "languageId": "r"
    }
   },
   "outputs": [],
   "source": [
    "library(\"Eunomia\")\n",
    "library(\"DatabaseConnector\")\n",
    "library(\"CohortMethod\")"
   ]
  },
  {
   "cell_type": "markdown",
   "metadata": {},
   "source": [
    "## Connect to Eunomia GiBleed dataset (default) and Test a Query"
   ]
  },
  {
   "cell_type": "code",
   "execution_count": null,
   "metadata": {
    "vscode": {
     "languageId": "r"
    }
   },
   "outputs": [],
   "source": [
    "# Got an error once and had to do this to resolve...\n",
    "#options(databaseConnectorInteger64AsNumeric = FALSE)\n",
    "\n",
    "\n",
    "connectionDetails <- getEunomiaConnectionDetails()\n",
    "\n",
    "\n",
    "createCohorts(connectionDetails)\n",
    "connection <- DatabaseConnector::connect(connectionDetails)\n",
    "\n",
    "# This is how you would connect to a different dataset\n",
    "#conn <- DatabaseConnector::connect(dbms = \"sqlite\", server = getDatabaseFile(\"MIMIC\"))\n",
    "\n",
    "# Get top ppl (use limit in sqlite, not top)\n",
    "DatabaseConnector::querySql(connection, sql=\"SELECT * FROM person limit 10;\")\n",
    "\n",
    "# Another example query...\n",
    "#DatabaseConnector::getTableNames(connection,databaseSchema = 'main')\n",
    "\n"
   ]
  },
  {
   "cell_type": "markdown",
   "metadata": {},
   "source": [
    "## Do Cohort Method Exercise from Book of Ohdsi"
   ]
  },
  {
   "cell_type": "code",
   "execution_count": null,
   "metadata": {
    "vscode": {
     "languageId": "r"
    }
   },
   "outputs": [],
   "source": [
    "nsaids <- c(1118084, 1124300) # celecoxib, diclofenac\n",
    "covSettings <- createDefaultCovariateSettings(\n",
    "  excludedCovariateConceptIds = nsaids,\n",
    "  addDescendantsToExclude = TRUE)\n",
    "\n",
    "# Load data:\n",
    "cmData <- getDbCohortMethodData(\n",
    "  connectionDetails = connectionDetails,\n",
    "  cdmDatabaseSchema = \"main\",\n",
    "  targetId = 1,\n",
    "  comparatorId = 2,\n",
    "  outcomeIds = 3,\n",
    "  exposureDatabaseSchema = \"main\",\n",
    "  exposureTable = \"cohort\",\n",
    "  outcomeDatabaseSchema = \"main\",\n",
    "  outcomeTable = \"cohort\",\n",
    "  covariateSettings = covSettings)\n",
    "summary(cmData)"
   ]
  },
  {
   "cell_type": "markdown",
   "metadata": {},
   "source": [
    "## Disconnect"
   ]
  },
  {
   "cell_type": "code",
   "execution_count": null,
   "metadata": {
    "vscode": {
     "languageId": "r"
    }
   },
   "outputs": [],
   "source": [
    "\n",
    "DatabaseConnector::disconnect(connection)"
   ]
  }
 ],
 "metadata": {
  "kernelspec": {
   "display_name": "R",
   "language": "R",
   "name": "ir"
  },
  "language_info": {
   "codemirror_mode": "r",
   "file_extension": ".r",
   "mimetype": "text/x-r-source",
   "name": "R",
   "pygments_lexer": "r",
   "version": "4.2.3"
  }
 },
 "nbformat": 4,
 "nbformat_minor": 2
}
