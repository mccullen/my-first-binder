{
 "cells": [
  {
   "cell_type": "code",
   "execution_count": null,
   "metadata": {
    "vscode": {
     "languageId": "r"
    }
   },
   "outputs": [],
   "source": [
    "library(\"Eunomia\")\n",
    "library(\"DatabaseConnector\")\n",
    "\n"
   ]
  },
  {
   "cell_type": "code",
   "execution_count": null,
   "metadata": {
    "vscode": {
     "languageId": "r"
    }
   },
   "outputs": [],
   "source": [
    "conn <- DatabaseConnector::connect(dbms = \"sqlite\", server = getDatabaseFile(\"MIMIC\"))"
   ]
  },
  {
   "cell_type": "code",
   "execution_count": null,
   "metadata": {
    "vscode": {
     "languageId": "r"
    }
   },
   "outputs": [],
   "source": [
    "sql <- \"select count(*) from person;\"\n",
    "querySql(conn, sql)"
   ]
  },
  {
   "cell_type": "code",
   "execution_count": null,
   "metadata": {
    "vscode": {
     "languageId": "r"
    }
   },
   "outputs": [],
   "source": [
    "#options(databaseConnectorInteger64AsNumeric = FALSE)\n",
    "connectionDetails <- getEunomiaConnectionDetails()\n",
    "createCohorts(connectionDetails)\n",
    "connection <- DatabaseConnector::connect(connectionDetails)\n",
    "DatabaseConnector::querySql(connection, sql=\"SELECT * FROM person limit 10;\")\n",
    "#  COUNT(*)\n",
    "#1     2694\n",
    "\n",
    "#DatabaseConnector::getTableNames(connection,databaseSchema = 'main')\n",
    "#DatabaseConnector::disconnect(connection)"
   ]
  },
  {
   "cell_type": "code",
   "execution_count": null,
   "metadata": {
    "vscode": {
     "languageId": "r"
    }
   },
   "outputs": [],
   "source": [
    "library(CohortMethod)\n",
    "nsaids <- c(1118084, 1124300) # celecoxib, diclofenac\n",
    "covSettings <- createDefaultCovariateSettings(\n",
    "  excludedCovariateConceptIds = nsaids,\n",
    "  addDescendantsToExclude = TRUE)\n",
    "\n",
    "# Load data:\n",
    "cmData <- getDbCohortMethodData(\n",
    "  connectionDetails = connectionDetails,\n",
    "  cdmDatabaseSchema = \"main\",\n",
    "  targetId = 1,\n",
    "  comparatorId = 2,\n",
    "  outcomeIds = 3,\n",
    "  exposureDatabaseSchema = \"main\",\n",
    "  exposureTable = \"cohort\",\n",
    "  outcomeDatabaseSchema = \"main\",\n",
    "  outcomeTable = \"cohort\",\n",
    "  covariateSettings = covSettings)\n",
    "summary(cmData)"
   ]
  }
 ],
 "metadata": {
  "kernelspec": {
   "display_name": "R",
   "language": "R",
   "name": "ir"
  },
  "language_info": {
   "codemirror_mode": "r",
   "file_extension": ".r",
   "mimetype": "text/x-r-source",
   "name": "R",
   "pygments_lexer": "r",
   "version": "4.2.3"
  }
 },
 "nbformat": 4,
 "nbformat_minor": 2
}
