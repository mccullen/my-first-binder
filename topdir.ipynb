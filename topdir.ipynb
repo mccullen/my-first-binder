{
 "cells": [
  {
   "cell_type": "code",
   "execution_count": null,
   "metadata": {
    "vscode": {
     "languageId": "r"
    }
   },
   "outputs": [],
   "source": [
    "library(\"Eunomia\")\n",
    "connectionDetails <- getEunomiaConnectionDetails()\n",
    "connection <- DatabaseConnector::connect(connectionDetails)\n",
    "DatabaseConnector::querySql(connection, sql=\"SELECT COUNT(*) FROM person;\")\n",
    "#  COUNT(*)\n",
    "#1     2694\n",
    "\n",
    "DatabaseConnector::getTableNames(connection,databaseSchema = 'main')\n",
    "DatabaseConnector::disconnect(connection)"
   ]
  },
  {
   "cell_type": "code",
   "execution_count": null,
   "metadata": {
    "vscode": {
     "languageId": "r"
    }
   },
   "outputs": [],
   "source": [
    "a <- \"hello\"\n",
    "print(a)"
   ]
  }
 ],
 "metadata": {
  "kernelspec": {
   "display_name": "R",
   "language": "R",
   "name": "ir"
  },
  "language_info": {
   "codemirror_mode": "r",
   "file_extension": ".r",
   "mimetype": "text/x-r-source",
   "name": "R",
   "pygments_lexer": "r",
   "version": "4.2.3"
  }
 },
 "nbformat": 4,
 "nbformat_minor": 2
}
