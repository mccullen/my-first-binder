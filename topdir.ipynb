{
 "cells": [
  {
   "cell_type": "markdown",
   "metadata": {},
   "source": [
    "## Load in R Packages"
   ]
  },
  {
   "cell_type": "code",
   "execution_count": null,
   "metadata": {
    "vscode": {
     "languageId": "r"
    }
   },
   "outputs": [],
   "source": [
    "library(\"Eunomia\")\n",
    "library(\"DatabaseConnector\")\n",
    "library(\"CohortMethod\")"
   ]
  },
  {
   "cell_type": "markdown",
   "metadata": {},
   "source": [
    "## Connect to Eunomia GiBleed dataset (default) and Test a Query"
   ]
  },
  {
   "cell_type": "code",
   "execution_count": null,
   "metadata": {
    "vscode": {
     "languageId": "r"
    }
   },
   "outputs": [],
   "source": [
    "# Got an error once and had to do this to resolve...\n",
    "#options(databaseConnectorInteger64AsNumeric = FALSE)\n",
    "\n",
    "\n",
    "connectionDetails <- getEunomiaConnectionDetails()\n",
    "\n",
    "\n",
    "createCohorts(connectionDetails)\n",
    "connection <- DatabaseConnector::connect(connectionDetails)\n",
    "\n",
    "# This is how you would connect to a different dataset\n",
    "#conn <- DatabaseConnector::connect(dbms = \"sqlite\", server = getDatabaseFile(\"MIMIC\"))\n",
    "\n",
    "# Get top ppl (use limit in sqlite, not top)\n",
    "DatabaseConnector::querySql(connection, sql=\"SELECT * FROM person;\")\n",
    "\n",
    "# Another example query...\n",
    "#DatabaseConnector::getTableNames(connection,databaseSchema = 'main')\n",
    "\n"
   ]
  },
  {
   "cell_type": "markdown",
   "metadata": {},
   "source": [
    "## Do Cohort Method Exercise from Book of Ohdsi\n",
    "[Exercise 12.1](https://ohdsi.github.io/TheBookOfOhdsi/SuggestedAnswers.html#exercise-refexrexerciseple1)"
   ]
  },
  {
   "cell_type": "code",
   "execution_count": null,
   "metadata": {
    "vscode": {
     "languageId": "r"
    }
   },
   "outputs": [],
   "source": [
    "nsaids <- c(1118084, 1124300) # celecoxib, diclofenac\n",
    "covSettings <- createDefaultCovariateSettings(\n",
    "  excludedCovariateConceptIds = nsaids,\n",
    "  addDescendantsToExclude = TRUE)\n",
    "\n",
    "# Load data:\n",
    "cmData <- getDbCohortMethodData(\n",
    "  connectionDetails = connectionDetails,\n",
    "  cdmDatabaseSchema = \"main\",\n",
    "  targetId = 1,\n",
    "  comparatorId = 2,\n",
    "  outcomeIds = 3,\n",
    "  exposureDatabaseSchema = \"main\",\n",
    "  exposureTable = \"cohort\",\n",
    "  outcomeDatabaseSchema = \"main\",\n",
    "  outcomeTable = \"cohort\",\n",
    "  covariateSettings = covSettings)\n",
    "summary(cmData)"
   ]
  },
  {
   "cell_type": "markdown",
   "metadata": {},
   "source": [
    "## Create Study Population \n",
    "Book of OHDSI [Exercise 12.2](https://ohdsi.github.io/TheBookOfOhdsi/SuggestedAnswers.html#exercise-refexrexerciseple2)"
   ]
  },
  {
   "cell_type": "code",
   "execution_count": null,
   "metadata": {
    "vscode": {
     "languageId": "r"
    }
   },
   "outputs": [],
   "source": [
    "studyPop <- createStudyPopulation(\n",
    "  cohortMethodData = cmData,\n",
    "  outcomeId = 3,\n",
    "  washoutPeriod = 180,\n",
    "  removeDuplicateSubjects = \"remove all\",\n",
    "  removeSubjectsWithPriorOutcome = TRUE,\n",
    "  riskWindowStart = 0,\n",
    "  startAnchor = \"cohort start\",\n",
    "  riskWindowEnd = 99999)\n",
    "drawAttritionDiagram(studyPop)"
   ]
  },
  {
   "cell_type": "markdown",
   "metadata": {},
   "source": [
    "## Cox Regression\n",
    "Book of OHDSI [Exercise 12.3](https://ohdsi.github.io/TheBookOfOhdsi/SuggestedAnswers.html#exercise-refexrexerciseple3)"
   ]
  },
  {
   "cell_type": "code",
   "execution_count": null,
   "metadata": {
    "vscode": {
     "languageId": "r"
    }
   },
   "outputs": [],
   "source": [
    "model <- fitOutcomeModel(population = studyPop,\n",
    "                         modelType = \"cox\")\n",
    "model"
   ]
  },
  {
   "cell_type": "markdown",
   "metadata": {},
   "source": [
    "## Propensity Model\n",
    "Book of OHDSI [Exercise 12.4](https://ohdsi.github.io/TheBookOfOhdsi/SuggestedAnswers.html#exercise-refexrexerciseple4)"
   ]
  },
  {
   "cell_type": "code",
   "execution_count": null,
   "metadata": {
    "vscode": {
     "languageId": "r"
    }
   },
   "outputs": [],
   "source": [
    "ps <- createPs(cohortMethodData = cmData,\n",
    "               population = studyPop)\n",
    "plotPs(ps, showCountsLabel = TRUE, showAucLabel = TRUE)"
   ]
  },
  {
   "cell_type": "markdown",
   "metadata": {},
   "source": [
    "## Disconnect"
   ]
  },
  {
   "cell_type": "code",
   "execution_count": null,
   "metadata": {
    "vscode": {
     "languageId": "r"
    }
   },
   "outputs": [],
   "source": [
    "\n",
    "DatabaseConnector::disconnect(connection)"
   ]
  }
 ],
 "metadata": {
  "kernelspec": {
   "display_name": "R",
   "language": "R",
   "name": "ir"
  },
  "language_info": {
   "codemirror_mode": "r",
   "file_extension": ".r",
   "mimetype": "text/x-r-source",
   "name": "R",
   "pygments_lexer": "r",
   "version": "4.2.3"
  }
 },
 "nbformat": 4,
 "nbformat_minor": 2
}
