{
 "cells": [
  {
   "cell_type": "markdown",
   "metadata": {},
   "source": [
    "## Load in R Packages"
   ]
  },
  {
   "cell_type": "code",
   "execution_count": null,
   "metadata": {
    "vscode": {
     "languageId": "r"
    }
   },
   "outputs": [],
   "source": [
    "library(\"Eunomia\")\n",
    "library(\"DatabaseConnector\")\n",
    "library(\"CohortMethod\")\n",
    "library(PatientLevelPrediction)\n",
    "library(\"ResultModelManager\")\n",
    "library(ShinyAppBuilder)"
   ]
  },
  {
   "cell_type": "markdown",
   "metadata": {},
   "source": [
    "## Connect to Eunomia GiBleed dataset (default) and Test a Query"
   ]
  },
  {
   "cell_type": "code",
   "execution_count": null,
   "metadata": {
    "vscode": {
     "languageId": "r"
    }
   },
   "outputs": [],
   "source": [
    "# Got an error once and had to do this to resolve...\n",
    "#options(databaseConnectorInteger64AsNumeric = FALSE)\n",
    "\n",
    "\n",
    "connectionDetails <- getEunomiaConnectionDetails()\n",
    "\n",
    "\n",
    "createCohorts(connectionDetails)\n",
    "connection <- DatabaseConnector::connect(connectionDetails)\n",
    "\n",
    "# This is how you would connect to a different dataset\n",
    "#conn <- DatabaseConnector::connect(dbms = \"sqlite\", server = getDatabaseFile(\"MIMIC\"))\n",
    "\n",
    "# Get top ppl (use limit in sqlite, not top)\n",
    "DatabaseConnector::querySql(connection, sql=\"SELECT * FROM person;\")\n",
    "\n",
    "# Another example query...\n",
    "#DatabaseConnector::getTableNames(connection,databaseSchema = 'main')\n",
    "\n"
   ]
  },
  {
   "cell_type": "markdown",
   "metadata": {},
   "source": [
    "## Do Cohort Method Exercise from Book of Ohdsi\n",
    "[Exercise 12.1](https://ohdsi.github.io/TheBookOfOhdsi/SuggestedAnswers.html#exercise-refexrexerciseple1)"
   ]
  },
  {
   "cell_type": "code",
   "execution_count": null,
   "metadata": {
    "vscode": {
     "languageId": "r"
    }
   },
   "outputs": [],
   "source": [
    "nsaids <- c(1118084, 1124300) # celecoxib, diclofenac\n",
    "covSettings <- createDefaultCovariateSettings(\n",
    "  excludedCovariateConceptIds = nsaids,\n",
    "  addDescendantsToExclude = TRUE)\n",
    "\n",
    "# Load data:\n",
    "cmData <- getDbCohortMethodData(\n",
    "  connectionDetails = connectionDetails,\n",
    "  cdmDatabaseSchema = \"main\",\n",
    "  targetId = 1,\n",
    "  comparatorId = 2,\n",
    "  outcomeIds = 3,\n",
    "  exposureDatabaseSchema = \"main\",\n",
    "  exposureTable = \"cohort\",\n",
    "  outcomeDatabaseSchema = \"main\",\n",
    "  outcomeTable = \"cohort\",\n",
    "  covariateSettings = covSettings)\n",
    "summary(cmData)"
   ]
  },
  {
   "cell_type": "markdown",
   "metadata": {},
   "source": [
    "## Create Study Population \n",
    "Book of OHDSI [Exercise 12.2](https://ohdsi.github.io/TheBookOfOhdsi/SuggestedAnswers.html#exercise-refexrexerciseple2)"
   ]
  },
  {
   "cell_type": "code",
   "execution_count": null,
   "metadata": {
    "vscode": {
     "languageId": "r"
    }
   },
   "outputs": [],
   "source": [
    "studyPop <- createStudyPopulation(\n",
    "  cohortMethodData = cmData,\n",
    "  outcomeId = 3,\n",
    "  washoutPeriod = 180,\n",
    "  removeDuplicateSubjects = \"remove all\",\n",
    "  removeSubjectsWithPriorOutcome = TRUE,\n",
    "  riskWindowStart = 0,\n",
    "  startAnchor = \"cohort start\",\n",
    "  riskWindowEnd = 99999)\n",
    "drawAttritionDiagram(studyPop)"
   ]
  },
  {
   "cell_type": "markdown",
   "metadata": {},
   "source": [
    "## Cox Regression\n",
    "Book of OHDSI [Exercise 12.3](https://ohdsi.github.io/TheBookOfOhdsi/SuggestedAnswers.html#exercise-refexrexerciseple3)"
   ]
  },
  {
   "cell_type": "code",
   "execution_count": null,
   "metadata": {
    "vscode": {
     "languageId": "r"
    }
   },
   "outputs": [],
   "source": [
    "model <- fitOutcomeModel(population = studyPop,\n",
    "                         modelType = \"cox\")\n",
    "model"
   ]
  },
  {
   "cell_type": "markdown",
   "metadata": {},
   "source": [
    "## Propensity Model\n",
    "Book of OHDSI [Exercise 12.4](https://ohdsi.github.io/TheBookOfOhdsi/SuggestedAnswers.html#exercise-refexrexerciseple4)"
   ]
  },
  {
   "cell_type": "code",
   "execution_count": null,
   "metadata": {
    "vscode": {
     "languageId": "r"
    }
   },
   "outputs": [],
   "source": [
    "ps <- createPs(cohortMethodData = cmData,\n",
    "               population = studyPop)\n",
    "plotPs(ps, showCountsLabel = TRUE, showAucLabel = TRUE)"
   ]
  },
  {
   "cell_type": "markdown",
   "metadata": {},
   "source": [
    "## PS Stratification using 5 Strata\n",
    "Book of OHDSI [Exercise 12.5](https://ohdsi.github.io/TheBookOfOhdsi/SuggestedAnswers.html#exercise-refexrexerciseple5)"
   ]
  },
  {
   "cell_type": "code",
   "execution_count": null,
   "metadata": {
    "vscode": {
     "languageId": "r"
    }
   },
   "outputs": [],
   "source": [
    "strataPop <- stratifyByPs(ps, numberOfStrata = 5)\n",
    "bal <- computeCovariateBalance(strataPop, cmData)\n",
    "plotCovariateBalanceScatterPlot(bal,\n",
    "                                showCovariateCountLabel = TRUE,\n",
    "                                showMaxLabel = TRUE,\n",
    "                                beforeLabel = \"Before stratification\",\n",
    "                                afterLabel = \"After stratification\")"
   ]
  },
  {
   "cell_type": "markdown",
   "metadata": {},
   "source": [
    "## Outcome Model using Cox Regression\n",
    "Book of OHDSI [Exercise 12.6](https://ohdsi.github.io/TheBookOfOhdsi/SuggestedAnswers.html#exercise-refexrexerciseple6)"
   ]
  },
  {
   "cell_type": "code",
   "execution_count": null,
   "metadata": {
    "vscode": {
     "languageId": "r"
    }
   },
   "outputs": [],
   "source": [
    "adjModel <- fitOutcomeModel(population = strataPop,\n",
    "                         modelType = \"cox\",\n",
    "                         stratified = TRUE)\n",
    "adjModel"
   ]
  },
  {
   "cell_type": "markdown",
   "metadata": {},
   "source": [
    "## Define Covariates for Prediction and Extract PLP data from CDM\n",
    "Book of OHDSI [Exercise 13.1](https://ohdsi.github.io/TheBookOfOhdsi/SuggestedAnswers.html#exercise-refexrexerciseplp1)\n",
    "Note: This is updated from the book, since it seems the book is out of date..."
   ]
  },
  {
   "cell_type": "code",
   "execution_count": null,
   "metadata": {
    "vscode": {
     "languageId": "r"
    }
   },
   "outputs": [],
   "source": [
    "dbDetails <- createDatabaseDetails(\n",
    "    connectionDetails = connectionDetails,\n",
    "    cdmDatabaseSchema = \"main\",\n",
    "    cdmDatabaseName = \"main\",\n",
    "    cdmDatabaseId = \"main\",\n",
    "    outcomeTable = \"cohort\",\n",
    "    outcomeIds = 3,\n",
    "    cohortId = 4\n",
    ")\n",
    "covSettings <- createCovariateSettings(\n",
    "  useDemographicsGender = TRUE,\n",
    "  useDemographicsAge = TRUE,\n",
    "  useConditionGroupEraLongTerm = TRUE,\n",
    "  useConditionGroupEraAnyTimePrior = TRUE,\n",
    "  useDrugGroupEraLongTerm = TRUE,\n",
    "  useDrugGroupEraAnyTimePrior = TRUE,\n",
    "  useVisitConceptCountLongTerm = TRUE,\n",
    "  longTermStartDays = -365,\n",
    "  endDays = -1)\n",
    "\n",
    "plpData <- getPlpData(\n",
    "    databaseDetails = dbDetails,\n",
    "    covariateSettings = covSettings,\n",
    "    restrictPlpDataSettings = createRestrictPlpDataSettings()\n",
    ")\n",
    "\n",
    "summary(plpData)"
   ]
  },
  {
   "cell_type": "markdown",
   "metadata": {},
   "source": [
    "## Create Study Population\n",
    "Book of OHDSI [Exercise 13.2](https://ohdsi.github.io/TheBookOfOhdsi/SuggestedAnswers.html#exercise-refexrexerciseplp2)"
   ]
  },
  {
   "cell_type": "code",
   "execution_count": null,
   "metadata": {
    "vscode": {
     "languageId": "r"
    }
   },
   "outputs": [],
   "source": [
    "populationSettings <- createStudyPopulationSettings(\n",
    "    washoutPeriod = 364,\n",
    "    firstExposureOnly = F,\n",
    "    removeSubjectsWithPriorOutcome = T,\n",
    "    priorOutcomeLookback = 9999,\n",
    "    riskWindowStart = 1,\n",
    "    riskWindowEnd = 365,\n",
    "    #addExposureDaysToStart = F,\n",
    "    #addExposureDaysToEnd = F,\n",
    "    startAnchor = \"cohort start\",\n",
    "    endAnchor = \"cohort start\",\n",
    "    minTimeAtRisk = 364,\n",
    "    requireTimeAtRisk = T,\n",
    "    includeAllOutcomes = T\n",
    "\n",
    ")\n",
    "population <- createStudyPopulation(\n",
    "    plpData = plpData, \n",
    "    populationSettings = populationSettings,\n",
    "    outcomeId = 3\n",
    ")\n",
    "nrow(population)"
   ]
  },
  {
   "cell_type": "markdown",
   "metadata": {},
   "source": [
    "13.3"
   ]
  },
  {
   "cell_type": "code",
   "execution_count": null,
   "metadata": {
    "vscode": {
     "languageId": "r"
    }
   },
   "outputs": [],
   "source": [
    "lassoModel <- setLassoLogisticRegression()\n",
    "#plpData$population = population\n",
    "lassoResults <- runPlp(\n",
    "                        #population = population,\n",
    "                        populationSettings = populationSettings,\n",
    "                       plpData = plpData,\n",
    "                       modelSettings = lassoModel,\n",
    "                       outcomeId = 3,\n",
    "                       #testSplit = 'person',\n",
    "                       #testFraction = 0.25,\n",
    "                       splitSettings = createDefaultSplitSetting(type = \"stratified\", testFraction = 0.25,trainFraction = 0.75, splitSeed = 0, nfold = 3)\n",
    "                       #nfold = 2,\n",
    "                       #splitSeed = 0\n",
    "                       )"
   ]
  },
  {
   "cell_type": "code",
   "execution_count": null,
   "metadata": {
    "vscode": {
     "languageId": "r"
    }
   },
   "outputs": [],
   "source": [
    "library(ShinyAppBuilder)\n",
    "viewPlp(lassoResults)"
   ]
  },
  {
   "cell_type": "markdown",
   "metadata": {},
   "source": [
    "15.1"
   ]
  },
  {
   "cell_type": "code",
   "execution_count": null,
   "metadata": {
    "vscode": {
     "languageId": "r"
    }
   },
   "outputs": [],
   "source": []
  },
  {
   "cell_type": "markdown",
   "metadata": {},
   "source": [
    "15.2"
   ]
  },
  {
   "cell_type": "code",
   "execution_count": null,
   "metadata": {
    "vscode": {
     "languageId": "r"
    }
   },
   "outputs": [],
   "source": []
  },
  {
   "cell_type": "markdown",
   "metadata": {},
   "source": [
    "15.3"
   ]
  },
  {
   "cell_type": "code",
   "execution_count": null,
   "metadata": {
    "vscode": {
     "languageId": "r"
    }
   },
   "outputs": [],
   "source": []
  },
  {
   "cell_type": "markdown",
   "metadata": {},
   "source": [
    "## Disconnect"
   ]
  },
  {
   "cell_type": "code",
   "execution_count": null,
   "metadata": {
    "vscode": {
     "languageId": "r"
    }
   },
   "outputs": [],
   "source": [
    "\n",
    "DatabaseConnector::disconnect(connection)"
   ]
  }
 ],
 "metadata": {
  "kernelspec": {
   "display_name": "R",
   "language": "R",
   "name": "ir"
  },
  "language_info": {
   "codemirror_mode": "r",
   "file_extension": ".r",
   "mimetype": "text/x-r-source",
   "name": "R",
   "pygments_lexer": "r",
   "version": "4.2.3"
  }
 },
 "nbformat": 4,
 "nbformat_minor": 2
}
